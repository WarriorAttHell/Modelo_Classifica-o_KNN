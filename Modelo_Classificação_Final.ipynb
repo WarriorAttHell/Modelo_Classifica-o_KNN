{
 "cells": [
  {
   "cell_type": "code",
   "execution_count": 1,
   "id": "605576a3",
   "metadata": {},
   "outputs": [],
   "source": [
    "import pandas as pd\n",
    "import numpy as np\n",
    "import matplotlib.pyplot as plt\n",
    "from pandas.plotting import scatter_matrix\n",
    "from sklearn import model_selection\n",
    "from sklearn.metrics import classification_report\n",
    "from sklearn.metrics import confusion_matrix\n",
    "#from sklearn.metrics import accuracy_score\n",
    "from sklearn import metrics\n",
    "from sklearn.model_selection import RepeatedKFold\n",
    "from sklearn.neighbors import KNeighborsClassifier\n",
    "from sklearn.naive_bayes import GaussianNB\n",
    "from sklearn.svm import SVC"
   ]
  },
  {
   "cell_type": "code",
   "execution_count": 2,
   "id": "0bf1c554",
   "metadata": {},
   "outputs": [],
   "source": [
    "#definido os nomes das colunas\n",
    "names = ['sepal-length', 'sepal-width', 'petal-length', 'petal-width', 'class']\n",
    "#importando o dataset e transformando em dataframe\n",
    "df = pd.read_csv('C:/Users/deand/OneDrive/estudy/Iris/iris.csv', names=names,encoding='utf-8')"
   ]
  },
  {
   "cell_type": "code",
   "execution_count": 3,
   "id": "ef813706",
   "metadata": {},
   "outputs": [
    {
     "data": {
      "text/html": [
       "<div>\n",
       "<style scoped>\n",
       "    .dataframe tbody tr th:only-of-type {\n",
       "        vertical-align: middle;\n",
       "    }\n",
       "\n",
       "    .dataframe tbody tr th {\n",
       "        vertical-align: top;\n",
       "    }\n",
       "\n",
       "    .dataframe thead th {\n",
       "        text-align: right;\n",
       "    }\n",
       "</style>\n",
       "<table border=\"1\" class=\"dataframe\">\n",
       "  <thead>\n",
       "    <tr style=\"text-align: right;\">\n",
       "      <th></th>\n",
       "      <th>sepal-length</th>\n",
       "      <th>sepal-width</th>\n",
       "      <th>petal-length</th>\n",
       "      <th>petal-width</th>\n",
       "      <th>class</th>\n",
       "    </tr>\n",
       "  </thead>\n",
       "  <tbody>\n",
       "    <tr>\n",
       "      <th>0</th>\n",
       "      <td>5.1</td>\n",
       "      <td>3.5</td>\n",
       "      <td>1.4</td>\n",
       "      <td>0.2</td>\n",
       "      <td>Iris-setosa</td>\n",
       "    </tr>\n",
       "    <tr>\n",
       "      <th>1</th>\n",
       "      <td>4.9</td>\n",
       "      <td>3.0</td>\n",
       "      <td>1.4</td>\n",
       "      <td>0.2</td>\n",
       "      <td>Iris-setosa</td>\n",
       "    </tr>\n",
       "    <tr>\n",
       "      <th>2</th>\n",
       "      <td>4.7</td>\n",
       "      <td>3.2</td>\n",
       "      <td>1.3</td>\n",
       "      <td>0.2</td>\n",
       "      <td>Iris-setosa</td>\n",
       "    </tr>\n",
       "    <tr>\n",
       "      <th>3</th>\n",
       "      <td>4.6</td>\n",
       "      <td>3.1</td>\n",
       "      <td>1.5</td>\n",
       "      <td>0.2</td>\n",
       "      <td>Iris-setosa</td>\n",
       "    </tr>\n",
       "    <tr>\n",
       "      <th>4</th>\n",
       "      <td>5.0</td>\n",
       "      <td>3.6</td>\n",
       "      <td>1.4</td>\n",
       "      <td>0.2</td>\n",
       "      <td>Iris-setosa</td>\n",
       "    </tr>\n",
       "  </tbody>\n",
       "</table>\n",
       "</div>"
      ],
      "text/plain": [
       "   sepal-length  sepal-width  petal-length  petal-width        class\n",
       "0           5.1          3.5           1.4          0.2  Iris-setosa\n",
       "1           4.9          3.0           1.4          0.2  Iris-setosa\n",
       "2           4.7          3.2           1.3          0.2  Iris-setosa\n",
       "3           4.6          3.1           1.5          0.2  Iris-setosa\n",
       "4           5.0          3.6           1.4          0.2  Iris-setosa"
      ]
     },
     "execution_count": 3,
     "metadata": {},
     "output_type": "execute_result"
    }
   ],
   "source": [
    "#verificando se a importação foi bem sucedida\n",
    "df.head()"
   ]
  },
  {
   "cell_type": "code",
   "execution_count": 4,
   "id": "7074d446",
   "metadata": {},
   "outputs": [
    {
     "name": "stdout",
     "output_type": "stream",
     "text": [
      "<class 'pandas.core.frame.DataFrame'>\n",
      "RangeIndex: 150 entries, 0 to 149\n",
      "Data columns (total 5 columns):\n",
      " #   Column        Non-Null Count  Dtype  \n",
      "---  ------        --------------  -----  \n",
      " 0   sepal-length  150 non-null    float64\n",
      " 1   sepal-width   150 non-null    float64\n",
      " 2   petal-length  150 non-null    float64\n",
      " 3   petal-width   150 non-null    float64\n",
      " 4   class         150 non-null    object \n",
      "dtypes: float64(4), object(1)\n",
      "memory usage: 6.0+ KB\n"
     ]
    }
   ],
   "source": [
    "#verificando tipos de dados, temos (object e float64) e precisamos alterar isso para termos melhor desempenho no futuro\n",
    "df.info()"
   ]
  },
  {
   "cell_type": "code",
   "execution_count": 5,
   "id": "d0fa8d05",
   "metadata": {},
   "outputs": [],
   "source": [
    "# primeiro vamos alterar os valores da coluna class, sendo assim iris-setosa == 1, iris-versicolor == 2 , iris-virginica == 3.\n",
    "df = df.replace(['class'], np.nan)"
   ]
  },
  {
   "cell_type": "code",
   "execution_count": 6,
   "id": "2acb89c1",
   "metadata": {},
   "outputs": [],
   "source": [
    "#Busca todos o valores iguais a iris-setosa e os substitui por 1\n",
    "df['class'] = df['class'].replace(['Iris-setosa'], 1)"
   ]
  },
  {
   "cell_type": "code",
   "execution_count": 7,
   "id": "b4d83763",
   "metadata": {},
   "outputs": [],
   "source": [
    "#Busca todos o valores iguais a iris-versiclor e os substitui por 2\n",
    "df['class'] = df['class'].replace(['Iris-versicolor'], 2)"
   ]
  },
  {
   "cell_type": "code",
   "execution_count": 8,
   "id": "f7282005",
   "metadata": {},
   "outputs": [],
   "source": [
    "#Busca todos o valores iguais a iris-virginica e os substitui por 3\n",
    "df['class'] = df['class'].replace(['Iris-virginica'], 3)"
   ]
  },
  {
   "cell_type": "code",
   "execution_count": 9,
   "id": "b07da6ff",
   "metadata": {},
   "outputs": [
    {
     "name": "stdout",
     "output_type": "stream",
     "text": [
      "<class 'pandas.core.frame.DataFrame'>\n",
      "RangeIndex: 150 entries, 0 to 149\n",
      "Data columns (total 5 columns):\n",
      " #   Column        Non-Null Count  Dtype  \n",
      "---  ------        --------------  -----  \n",
      " 0   sepal-length  150 non-null    float64\n",
      " 1   sepal-width   150 non-null    float64\n",
      " 2   petal-length  150 non-null    float64\n",
      " 3   petal-width   150 non-null    float64\n",
      " 4   class         150 non-null    int64  \n",
      "dtypes: float64(4), int64(1)\n",
      "memory usage: 6.0 KB\n"
     ]
    }
   ],
   "source": [
    "df.info()"
   ]
  },
  {
   "cell_type": "code",
   "execution_count": 10,
   "id": "01f869d4",
   "metadata": {},
   "outputs": [],
   "source": [
    "#notamos que os valores de object mudaram para int vamos alterar para float64\n",
    "df['class'] = df['class'].astype('float64')"
   ]
  },
  {
   "cell_type": "code",
   "execution_count": 11,
   "id": "87badf7a",
   "metadata": {},
   "outputs": [
    {
     "name": "stdout",
     "output_type": "stream",
     "text": [
      "<class 'pandas.core.frame.DataFrame'>\n",
      "RangeIndex: 150 entries, 0 to 149\n",
      "Data columns (total 5 columns):\n",
      " #   Column        Non-Null Count  Dtype  \n",
      "---  ------        --------------  -----  \n",
      " 0   sepal-length  150 non-null    float64\n",
      " 1   sepal-width   150 non-null    float64\n",
      " 2   petal-length  150 non-null    float64\n",
      " 3   petal-width   150 non-null    float64\n",
      " 4   class         150 non-null    float64\n",
      "dtypes: float64(5)\n",
      "memory usage: 6.0 KB\n"
     ]
    }
   ],
   "source": [
    "df.info()"
   ]
  },
  {
   "cell_type": "code",
   "execution_count": 12,
   "id": "69946b15",
   "metadata": {},
   "outputs": [
    {
     "data": {
      "text/plain": [
       "2.0"
      ]
     },
     "execution_count": 12,
     "metadata": {},
     "output_type": "execute_result"
    }
   ],
   "source": [
    "#para confirmar podemos usar a função .mean() ou .plot() assim temos certeza que os dados foram alterados com sucesso\n",
    "df['class'].mean()"
   ]
  },
  {
   "cell_type": "code",
   "execution_count": 13,
   "id": "612638f7",
   "metadata": {},
   "outputs": [
    {
     "data": {
      "text/plain": [
       "<AxesSubplot:>"
      ]
     },
     "execution_count": 13,
     "metadata": {},
     "output_type": "execute_result"
    },
    {
     "data": {
      "image/png": "[encoded data removed]",
      "text/plain": [
       "<Figure size 432x288 with 1 Axes>"
      ]
     },
     "metadata": {
      "needs_background": "light"
     },
     "output_type": "display_data"
    }
   ],
   "source": [
    "df['class'].plot()\n",
    "\n",
    "#nossa formatação e conversão foram bem sucedidas"
   ]
  },
  {
   "cell_type": "code",
   "execution_count": 14,
   "id": "6944cf6a",
   "metadata": {},
   "outputs": [
    {
     "name": "stdout",
     "output_type": "stream",
     "text": [
      "     sepal-length  sepal-width  petal-length  petal-width  class\n",
      "34            4.9          3.1           1.5          0.1    1.0\n",
      "37            4.9          3.1           1.5          0.1    1.0\n",
      "142           5.8          2.7           5.1          1.9    3.0\n"
     ]
    }
   ],
   "source": [
    "#verificando se tem dados duplicados\n",
    "duplicados = df[df.duplicated(keep='first')]\n",
    "print(duplicados)"
   ]
  },
  {
   "cell_type": "code",
   "execution_count": 15,
   "id": "a39820a0",
   "metadata": {},
   "outputs": [],
   "source": [
    "#removendo as duplicatas mas deixando primeira ocorrência da repetição para não desperdiçar dados\n",
    "df.drop_duplicates(keep='first', inplace=True)"
   ]
  },
  {
   "cell_type": "code",
   "execution_count": 16,
   "id": "a002a19c",
   "metadata": {},
   "outputs": [
    {
     "data": {
      "text/plain": [
       "sepal-length    0\n",
       "sepal-width     0\n",
       "petal-length    0\n",
       "petal-width     0\n",
       "class           0\n",
       "dtype: int64"
      ]
     },
     "execution_count": 16,
     "metadata": {},
     "output_type": "execute_result"
    }
   ],
   "source": [
    "#vamos utilizar o metodo .isnull() junto de .sum() para identificar se há dados faltantes\n",
    "df.isnull().sum()"
   ]
  },
  {
   "cell_type": "code",
   "execution_count": 17,
   "id": "d6bc4326",
   "metadata": {},
   "outputs": [],
   "source": [
    "# conjunto de valdação de dados, 80% para teste e 20% para validação\n",
    "array = df.values\n",
    "X = array[:, :-1]\n",
    "Y = array[:, 4]\n",
    "validation_size = 0.20\n",
    "seed = 7\n",
    "\n",
    "X_train, X_validation, Y_train, Y_validation = model_selection.train_test_split(X, Y, test_size=validation_size, random_state=seed)\n",
    "\n"
   ]
  },
  {
   "cell_type": "code",
   "execution_count": 18,
   "id": "59079e1e",
   "metadata": {},
   "outputs": [
    {
     "data": {
      "text/plain": [
       "((147, 4), (147,))"
      ]
     },
     "execution_count": 18,
     "metadata": {},
     "output_type": "execute_result"
    }
   ],
   "source": [
    "X.shape, Y.shape"
   ]
  },
  {
   "cell_type": "code",
   "execution_count": 19,
   "id": "3138d1c4",
   "metadata": {},
   "outputs": [],
   "source": [
    "#aplicando .fit() e .predict()\n",
    "knn = KNeighborsClassifier(n_neighbors = 5).fit(X_train, Y_train)\n",
    "resultado = knn.predict(X_validation)\n",
    "#accuracy_score(Y_validation, resultado, normalize=True)\n"
   ]
  },
  {
   "cell_type": "code",
   "execution_count": 20,
   "id": "e1456ebf",
   "metadata": {},
   "outputs": [
    {
     "name": "stdout",
     "output_type": "stream",
     "text": [
      "[[ 8  0  0]\n",
      " [ 0  8  1]\n",
      " [ 0  1 12]]\n"
     ]
    }
   ],
   "source": [
    "print(confusion_matrix(Y_validation, resultado))"
   ]
  },
  {
   "cell_type": "code",
   "execution_count": 21,
   "id": "b91fb48f",
   "metadata": {},
   "outputs": [
    {
     "data": {
      "text/html": [
       "<div>\n",
       "<style scoped>\n",
       "    .dataframe tbody tr th:only-of-type {\n",
       "        vertical-align: middle;\n",
       "    }\n",
       "\n",
       "    .dataframe tbody tr th {\n",
       "        vertical-align: top;\n",
       "    }\n",
       "\n",
       "    .dataframe thead th {\n",
       "        text-align: right;\n",
       "    }\n",
       "</style>\n",
       "<table border=\"1\" class=\"dataframe\">\n",
       "  <thead>\n",
       "    <tr style=\"text-align: right;\">\n",
       "      <th></th>\n",
       "      <th>sepal-length</th>\n",
       "      <th>sepal-width</th>\n",
       "      <th>petal-length</th>\n",
       "      <th>petal-width</th>\n",
       "      <th>class</th>\n",
       "    </tr>\n",
       "  </thead>\n",
       "  <tbody>\n",
       "    <tr>\n",
       "      <th>count</th>\n",
       "      <td>147.000000</td>\n",
       "      <td>147.000000</td>\n",
       "      <td>147.000000</td>\n",
       "      <td>147.000000</td>\n",
       "      <td>147.000000</td>\n",
       "    </tr>\n",
       "    <tr>\n",
       "      <th>mean</th>\n",
       "      <td>5.856463</td>\n",
       "      <td>3.055782</td>\n",
       "      <td>3.780272</td>\n",
       "      <td>1.208844</td>\n",
       "      <td>2.006803</td>\n",
       "    </tr>\n",
       "    <tr>\n",
       "      <th>std</th>\n",
       "      <td>0.829100</td>\n",
       "      <td>0.437009</td>\n",
       "      <td>1.759111</td>\n",
       "      <td>0.757874</td>\n",
       "      <td>0.815069</td>\n",
       "    </tr>\n",
       "    <tr>\n",
       "      <th>min</th>\n",
       "      <td>4.300000</td>\n",
       "      <td>2.000000</td>\n",
       "      <td>1.000000</td>\n",
       "      <td>0.100000</td>\n",
       "      <td>1.000000</td>\n",
       "    </tr>\n",
       "    <tr>\n",
       "      <th>25%</th>\n",
       "      <td>5.100000</td>\n",
       "      <td>2.800000</td>\n",
       "      <td>1.600000</td>\n",
       "      <td>0.300000</td>\n",
       "      <td>1.000000</td>\n",
       "    </tr>\n",
       "    <tr>\n",
       "      <th>50%</th>\n",
       "      <td>5.800000</td>\n",
       "      <td>3.000000</td>\n",
       "      <td>4.400000</td>\n",
       "      <td>1.300000</td>\n",
       "      <td>2.000000</td>\n",
       "    </tr>\n",
       "    <tr>\n",
       "      <th>75%</th>\n",
       "      <td>6.400000</td>\n",
       "      <td>3.300000</td>\n",
       "      <td>5.100000</td>\n",
       "      <td>1.800000</td>\n",
       "      <td>3.000000</td>\n",
       "    </tr>\n",
       "    <tr>\n",
       "      <th>max</th>\n",
       "      <td>7.900000</td>\n",
       "      <td>4.400000</td>\n",
       "      <td>6.900000</td>\n",
       "      <td>2.500000</td>\n",
       "      <td>3.000000</td>\n",
       "    </tr>\n",
       "  </tbody>\n",
       "</table>\n",
       "</div>"
      ],
      "text/plain": [
       "       sepal-length  sepal-width  petal-length  petal-width       class\n",
       "count    147.000000   147.000000    147.000000   147.000000  147.000000\n",
       "mean       5.856463     3.055782      3.780272     1.208844    2.006803\n",
       "std        0.829100     0.437009      1.759111     0.757874    0.815069\n",
       "min        4.300000     2.000000      1.000000     0.100000    1.000000\n",
       "25%        5.100000     2.800000      1.600000     0.300000    1.000000\n",
       "50%        5.800000     3.000000      4.400000     1.300000    2.000000\n",
       "75%        6.400000     3.300000      5.100000     1.800000    3.000000\n",
       "max        7.900000     4.400000      6.900000     2.500000    3.000000"
      ]
     },
     "execution_count": 21,
     "metadata": {},
     "output_type": "execute_result"
    }
   ],
   "source": [
    "#exibindo as metricas do dataset\n",
    "df.describe()"
   ]
  },
  {
   "cell_type": "code",
   "execution_count": 22,
   "id": "e3fd0422",
   "metadata": {},
   "outputs": [
    {
     "name": "stdout",
     "output_type": "stream",
     "text": [
      "Acurácia: 0.93\n"
     ]
    }
   ],
   "source": [
    "print(\"Acurácia: %3.2f\" % metrics.accuracy_score(resultado,Y_validation))"
   ]
  },
  {
   "cell_type": "code",
   "execution_count": 23,
   "id": "d5a5f9b8",
   "metadata": {},
   "outputs": [],
   "source": [
    "import joblib as jb\n",
    "from joblib import dump, load"
   ]
  },
  {
   "cell_type": "code",
   "execution_count": 24,
   "id": "37c13bd7",
   "metadata": {},
   "outputs": [
    {
     "data": {
      "text/plain": [
       "['modelo_KNN.pk1']"
      ]
     },
     "execution_count": 24,
     "metadata": {},
     "output_type": "execute_result"
    }
   ],
   "source": [
    "dump(knn, 'modelo_KNN.pk1')"
   ]
  },
  {
   "cell_type": "code",
   "execution_count": 25,
   "id": "75633b80",
   "metadata": {},
   "outputs": [],
   "source": [
    "import streamlit as st"
   ]
  },
  {
   "cell_type": "code",
   "execution_count": null,
   "id": "d5744632",
   "metadata": {},
   "outputs": [],
   "source": [
    "\n"
   ]
  },
  {
   "cell_type": "code",
   "execution_count": null,
   "id": "770b3041",
   "metadata": {},
   "outputs": [],
   "source": []
  }
 ],
 "metadata": {
  "kernelspec": {
   "display_name": "Python 3",
   "language": "python",
   "name": "python3"
  },
  "language_info": {
   "codemirror_mode": {
    "name": "ipython",
    "version": 3
   },
   "file_extension": ".py",
   "mimetype": "text/x-python",
   "name": "python",
   "nbconvert_exporter": "python",
   "pygments_lexer": "ipython3",
   "version": "3.8.8"
  }
 },
 "nbformat": 4,
 "nbformat_minor": 5
}
